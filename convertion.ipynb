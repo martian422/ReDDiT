{
 "cells": [
  {
   "cell_type": "code",
   "execution_count": 1,
   "metadata": {},
   "outputs": [
    {
     "name": "stderr",
     "output_type": "stream",
     "text": [
      "/home/MaTianren/anaconda3/envs/qwen/lib/python3.12/site-packages/tqdm/auto.py:21: TqdmWarning: IProgress not found. Please update jupyter and ipywidgets. See https://ipywidgets.readthedocs.io/en/stable/user_install.html\n",
      "  from .autonotebook import tqdm as notebook_tqdm\n"
     ]
    }
   ],
   "source": [
    "import dataloader_t2i as dataloader\n",
    "import transformers\n",
    "\n",
    "tokenizer  = transformers.AutoTokenizer.from_pretrained(\n",
    "        '/home/MaTianren/Workspace/LLaVA-15/checkpoints/lang-mirage-7b-lora-continuv-merged', use_fast=False)\n",
    "tokenizer.chat_template = 'tokenizer'"
   ]
  },
  {
   "cell_type": "code",
   "execution_count": 2,
   "metadata": {},
   "outputs": [],
   "source": [
    "tokenized_dataset = dataloader.get_dataset(\n",
    "    dataset_name='gsm8k', tokenizer=tokenizer)\n"
   ]
  },
  {
   "cell_type": "code",
   "execution_count": 18,
   "metadata": {},
   "outputs": [],
   "source": [
    "import torch\n",
    "from torch.nn.utils.rnn import pad_sequence\n",
    "\n",
    "def collate_fn(batch):\n",
    "    text_embeds = [torch.tensor(x['text_embeds'][0]) for x in batch]\n",
    "    image_tokens = [torch.tensor(x['image_tokens'][0]) for x in batch]\n",
    "    tokens = {\n",
    "        'text_embeds': pad_sequence(text_embeds, batch_first=True, padding_value=0),\n",
    "        'image_tokens': pad_sequence(image_tokens, batch_first=True, padding_value=0)\n",
    "        # 'text_embeds': text_embeds,\n",
    "        # 'image_tokens': image_tokens\n",
    "    }\n",
    "    return tokens\n",
    "\n",
    "train_set = dataloader.get_dataset(\n",
    "    dataset_name='gsm8k', tokenizer=tokenizer)\n",
    "\n",
    "train_loader = torch.utils.data.DataLoader(\n",
    "    train_set,\n",
    "    batch_size=4,\n",
    "    num_workers=8,\n",
    "    collate_fn=collate_fn,\n",
    "    drop_last=True,\n",
    "    persistent_workers=True)"
   ]
  },
  {
   "cell_type": "code",
   "execution_count": 19,
   "metadata": {},
   "outputs": [
    {
     "name": "stdout",
     "output_type": "stream",
     "text": [
      "torch.Size([114, 2048])\n",
      "torch.Size([256])\n"
     ]
    }
   ],
   "source": [
    "for batch in train_loader:\n",
    "    x1 = batch['text_embeds'][0]\n",
    "    x2 = batch['image_tokens'][0]\n",
    "    break\n",
    "print(x1.shape)\n",
    "print(x2.shape)"
   ]
  },
  {
   "cell_type": "code",
   "execution_count": 10,
   "metadata": {},
   "outputs": [
    {
     "data": {
      "text/plain": [
       "torch.Size([1, 110, 2048])"
      ]
     },
     "execution_count": 10,
     "metadata": {},
     "output_type": "execute_result"
    }
   ],
   "source": [
    "x1.shape"
   ]
  }
 ],
 "metadata": {
  "kernelspec": {
   "display_name": "qwen",
   "language": "python",
   "name": "python3"
  },
  "language_info": {
   "codemirror_mode": {
    "name": "ipython",
    "version": 3
   },
   "file_extension": ".py",
   "mimetype": "text/x-python",
   "name": "python",
   "nbconvert_exporter": "python",
   "pygments_lexer": "ipython3",
   "version": "3.12.4"
  }
 },
 "nbformat": 4,
 "nbformat_minor": 2
}
